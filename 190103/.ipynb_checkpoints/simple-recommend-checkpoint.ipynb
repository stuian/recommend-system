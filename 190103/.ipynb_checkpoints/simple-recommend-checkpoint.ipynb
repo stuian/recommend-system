{
 "cells": [
  {
   "cell_type": "markdown",
   "metadata": {},
   "source": [
    "## python实现推荐系统的简单例子\n",
    "\n",
    "-- 基于内容的物品相似"
   ]
  },
  {
   "cell_type": "code",
   "execution_count": null,
   "metadata": {},
   "outputs": [],
   "source": [
    "import pandas as pd\n",
    "import numpy as np\n",
    "import warnings\n",
    "warnings.filterwarnings('ignore')"
   ]
  },
  {
   "cell_type": "markdown",
   "metadata": {},
   "source": [
    "## 1、读取数据"
   ]
  },
  {
   "cell_type": "code",
   "execution_count": null,
   "metadata": {},
   "outputs": [],
   "source": [
    "# 定义表头\n",
    "unames = ['user_id','gender','age','occupation','zip']\n",
    "users = pd.read_table('data/users.dat',sep = '::',header=None,names = unames)"
   ]
  },
  {
   "cell_type": "code",
   "execution_count": null,
   "metadata": {},
   "outputs": [],
   "source": [
    "users.head(5)"
   ]
  },
  {
   "cell_type": "code",
   "execution_count": null,
   "metadata": {},
   "outputs": [],
   "source": [
    "# 导入评价数据\n",
    "rating_names = ['user_id','movie_id','rating','timestamp']\n",
    "ratings = pd.read_table('data/ratings.dat',sep='::',header=None,names = rating_names)"
   ]
  },
  {
   "cell_type": "code",
   "execution_count": null,
   "metadata": {},
   "outputs": [],
   "source": [
    "ratings.head(5)"
   ]
  },
  {
   "cell_type": "code",
   "execution_count": null,
   "metadata": {},
   "outputs": [],
   "source": [
    "movie_names = ['movie_id','title','genres']\n",
    "movies = pd.read_table('data/movies.dat',sep='::',header=None,names = movie_names)"
   ]
  },
  {
   "cell_type": "code",
   "execution_count": null,
   "metadata": {},
   "outputs": [],
   "source": [
    "movies.head(5)"
   ]
  },
  {
   "cell_type": "markdown",
   "metadata": {},
   "source": [
    "## 2、合并数据"
   ]
  },
  {
   "cell_type": "code",
   "execution_count": null,
   "metadata": {},
   "outputs": [],
   "source": [
    "data = pd.merge(pd.merge(users,ratings),movies)"
   ]
  },
  {
   "cell_type": "code",
   "execution_count": null,
   "metadata": {},
   "outputs": [],
   "source": [
    "data.head(10)"
   ]
  },
  {
   "cell_type": "code",
   "execution_count": null,
   "metadata": {},
   "outputs": [],
   "source": [
    "# 查看id为1的用户的所有信息\n",
    "data[data.user_id == 1]"
   ]
  },
  {
   "cell_type": "code",
   "execution_count": null,
   "metadata": {
    "scrolled": true
   },
   "outputs": [],
   "source": [
    "data.describe()"
   ]
  },
  {
   "cell_type": "code",
   "execution_count": null,
   "metadata": {},
   "outputs": [],
   "source": [
    "data.to_csv('data/data.csv')"
   ]
  },
  {
   "cell_type": "markdown",
   "metadata": {},
   "source": [
    "## 3、评分和评分次数"
   ]
  },
  {
   "cell_type": "code",
   "execution_count": null,
   "metadata": {},
   "outputs": [],
   "source": [
    "# 创建一个包含每部电影的平均评分和被评分次数的dataframe，用来计算电影间的相似度\n",
    "ratings = pd.DataFrame(data.groupby('title')['rating'].mean())\n",
    "ratings.head()"
   ]
  },
  {
   "cell_type": "code",
   "execution_count": null,
   "metadata": {},
   "outputs": [],
   "source": [
    "# 为评分次数设置阈值，毕竟如果只有一个人给一部电影评为5的话，把该电影定为5分是不合理的\n",
    "ratings['number_of_ratings'] = data.groupby('title')['rating'].count()"
   ]
  },
  {
   "cell_type": "code",
   "execution_count": null,
   "metadata": {},
   "outputs": [],
   "source": [
    "import matplotlib.pyplot as plt\n",
    "%matplotlib inline\n",
    "ratings['rating'].hist(bins = 50)"
   ]
  },
  {
   "cell_type": "code",
   "execution_count": null,
   "metadata": {},
   "outputs": [],
   "source": [
    "ratings['number_of_ratings'].hist(bins = 60)"
   ]
  },
  {
   "cell_type": "code",
   "execution_count": null,
   "metadata": {},
   "outputs": [],
   "source": [
    "# 探索电影评分和被评分次数之间的关系;散点图\n",
    "import seaborn as sns\n",
    "sns.jointplot(x = 'rating',y='number_of_ratings',data = ratings)"
   ]
  },
  {
   "cell_type": "code",
   "execution_count": null,
   "metadata": {},
   "outputs": [],
   "source": [
    "# 透视表，创建电影矩阵，用来计算电影间的相似度\n",
    "movie_matrix = data.pivot_table(index = 'user_id',columns = 'title',values = 'rating')\n",
    "movie_matrix.head()"
   ]
  },
  {
   "cell_type": "code",
   "execution_count": null,
   "metadata": {},
   "outputs": [],
   "source": [
    "# sort_values，按评分次数降序，查看分数前10的电影;当前ratings有三个字段：title，rating，number_of_ratings\n",
    "ratings.sort_values('number_of_ratings',ascending = False).head(10)"
   ]
  },
  {
   "cell_type": "code",
   "execution_count": null,
   "metadata": {},
   "outputs": [],
   "source": [
    "# 假设莫用户看过'Air Force One(1997)' 和 'Contact (1997)'，根据电影之间的相似度，推荐与之最相似的电影\n",
    "AFO_user_rating = movie_matrix['Air Force One (1997)']\n",
    "contact_user_rating = movie_matrix['Contact (1997)']"
   ]
  },
  {
   "cell_type": "code",
   "execution_count": null,
   "metadata": {},
   "outputs": [],
   "source": [
    "AFO_user_rating.head()"
   ]
  },
  {
   "cell_type": "code",
   "execution_count": null,
   "metadata": {},
   "outputs": [],
   "source": [
    "contact_user_rating.head()"
   ]
  },
  {
   "cell_type": "code",
   "execution_count": null,
   "metadata": {},
   "outputs": [],
   "source": [
    "# 所有用户对每个一电影的评价向量之间的相似性比较\n",
    "similar_to_air_force_one = movie_matrix.corrwith(AFO_user_rating)\n",
    "similar_to_air_force_one.head()"
   ]
  },
  {
   "cell_type": "code",
   "execution_count": null,
   "metadata": {},
   "outputs": [],
   "source": [
    "similar_to_contact = movie_matrix.corrwith(contact_user_rating)\n",
    "similar_to_contact.head()"
   ]
  },
  {
   "cell_type": "code",
   "execution_count": null,
   "metadata": {},
   "outputs": [],
   "source": [
    "# 由于矩阵中有很多null值，我们将删除他们，并将correlation results转换成dataframe\n",
    "corr_contact = pd.DataFrame(similar_to_contact,columns = ['Correlation'])\n",
    "corr_contact.dropna(inplace = True)\n",
    "corr_contact.head()\n",
    "corr_AFO = pd.DataFrame(similar_to_air_force_one,columns = ['Correlation'])\n",
    "corr_AFO.dropna(inplace = True)\n",
    "corr_AFO.head()"
   ]
  },
  {
   "cell_type": "code",
   "execution_count": null,
   "metadata": {},
   "outputs": [],
   "source": [
    "# 利用number_of_ratings列将两个dataframe连接起来\n",
    "corr_AFO = corr_AFO.join(ratings['number_of_ratings'])\n",
    "corr_contact = corr_contact.join(ratings['number_of_ratings'])\n",
    "corr_AFO.head()\n",
    "corr_contact.head()"
   ]
  },
  {
   "cell_type": "code",
   "execution_count": null,
   "metadata": {
    "scrolled": false
   },
   "outputs": [],
   "source": [
    "corr_AFO[corr_AFO['number_of_ratings'] > 100].sort_values(by = 'Correlation',ascending = False).head(10)"
   ]
  },
  {
   "cell_type": "code",
   "execution_count": null,
   "metadata": {
    "scrolled": true
   },
   "outputs": [],
   "source": [
    "corr_contact[corr_contact['number_of_ratings'] > 100].sort_values(by = 'Correlation',ascending = False).head(10)"
   ]
  },
  {
   "cell_type": "markdown",
   "metadata": {},
   "source": [
    "## 4、改进"
   ]
  },
  {
   "cell_type": "markdown",
   "metadata": {},
   "source": [
    "- 基于记忆的协同过滤\n",
    "- 划分数据为训练集和测试集\n",
    "- 余弦相似度来计算电影之间的相似度\n",
    "- 基于模型的协同过滤系统，处理伸缩性和稀疏性\n",
    "- 均方根误差对模型评估\n",
    "- 当数据量过于大，结合深度学习构建推荐系统\n",
    "- 自动编码器和受限boltzmann"
   ]
  },
  {
   "cell_type": "markdown",
   "metadata": {},
   "source": [
    "## 5、方法总结和改善\n",
    "\n",
    "参考链接：\n",
    "\n",
    "- [基于记忆与基于模型的推荐系统对比](https://blog.csdn.net/wushandinghua/article/details/52693864)\n",
    "\n",
    "1、基于内容的推荐系统\n",
    "- 用户之间相似\n",
    "- 产品之间相似\n",
    "\n",
    "2、基于模型的推荐系统\n",
    "- 预测用户对于从未见过的产品的喜爱程度"
   ]
  }
 ],
 "metadata": {
  "kernelspec": {
   "display_name": "Python 3",
   "language": "python",
   "name": "python3"
  },
  "language_info": {
   "codemirror_mode": {
    "name": "ipython",
    "version": 3
   },
   "file_extension": ".py",
   "mimetype": "text/x-python",
   "name": "python",
   "nbconvert_exporter": "python",
   "pygments_lexer": "ipython3",
   "version": "3.6.4"
  }
 },
 "nbformat": 4,
 "nbformat_minor": 2
}
