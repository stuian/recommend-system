{
 "cells": [
  {
   "cell_type": "code",
   "execution_count": 1,
   "metadata": {},
   "outputs": [],
   "source": [
    "import pandas as pd"
   ]
  },
  {
   "cell_type": "code",
   "execution_count": 19,
   "metadata": {
    "scrolled": true
   },
   "outputs": [
    {
     "name": "stdout",
     "output_type": "stream",
     "text": [
      "11\n"
     ]
    },
    {
     "data": {
      "text/plain": [
       "Index(['$1,000,000 Duck (1971)', ''Night Mother (1986)',\n",
       "       ''Til There Was You (1997)', ''burbs, The (1989)',\n",
       "       '...And Justice for All (1979)', '1-900 (1994)',\n",
       "       '10 Things I Hate About You (1999)', '101 Dalmatians (1961)',\n",
       "       '101 Dalmatians (1996)', '12 Angry Men (1957)',\n",
       "       ...\n",
       "       'Young Poisoner's Handbook, The (1995)', 'Young Sherlock Holmes (1985)',\n",
       "       'Young and Innocent (1937)', 'Your Friends and Neighbors (1998)',\n",
       "       'Zachariah (1971)', 'Zed & Two Noughts, A (1985)', 'Zero Effect (1998)',\n",
       "       'Zero Kelvin (Kj鎟lighetens kj鴗ere) (1995)', 'Zeus and Roxanne (1997)',\n",
       "       'eXistenZ (1999)'],\n",
       "      dtype='object', name='title', length=3706)"
      ]
     },
     "execution_count": 19,
     "metadata": {},
     "output_type": "execute_result"
    }
   ],
   "source": [
    "data = pd.read_csv(\"data/data.csv\")\n",
    "data.set_index('user_id',inplace = True)\n",
    "print(len(data.columns))\n",
    "movie_matrix = data.pivot_table(index = 'user_id',columns = 'title',values = 'rating')\n",
    "movie_matrix.fillna(0,inplace = True)\n",
    "movie_matrix.index"
   ]
  },
  {
   "cell_type": "markdown",
   "metadata": {},
   "source": [
    "## 1、基于用户相似"
   ]
  },
  {
   "cell_type": "markdown",
   "metadata": {},
   "source": [
    "### 1.1 欧式距离"
   ]
  },
  {
   "cell_type": "code",
   "execution_count": 3,
   "metadata": {},
   "outputs": [
    {
     "data": {
      "text/plain": [
       "[('Amityville Horror, The (1979)', 5.0),\n",
       " ('Baby, The (1973)', 5.0),\n",
       " ('Blair Witch Project, The (1999)', 5.0)]"
      ]
     },
     "execution_count": 3,
     "metadata": {},
     "output_type": "execute_result"
    }
   ],
   "source": [
    "# 1、欧式距离（x1与x2的差的平方和开根号）\n",
    "# 注意这里只针对两个用户共同评价的的电影计算欧式距离;movie_matrix\n",
    "# 参考链接：\n",
    "# 1、https://blog.csdn.net/qq_25948717/article/details/81839463\n",
    "# 2、欧式距离：https://blog.csdn.net/sunnyyoona/article/details/39721485\n",
    "# 3\\https://www.cnblogs.com/liuning8023/p/5417052.html\n",
    "\n",
    "from math import * \n",
    "\n",
    "# 计算两个用户之间的相似度\n",
    "def Euclidean(user1,user2):\n",
    "    distance = 0\n",
    "    array1 = movie_matrix.loc[user1].values\n",
    "    array2 = movie_matrix.loc[user2].values\n",
    "    length = len(array1)\n",
    "    for i in range(length):\n",
    "        if float(array1[i]) > 0 and float(array2[i]) > 0 :\n",
    "            distance += pow(float(array1[i]) - float(array2[i]),2)\n",
    "    return 1/(1 + sqrt(distance))\n",
    "\n",
    "# 计算某用户与所有其他用户之间的相似度，并选取最相似的那一个\n",
    "def top_user(user):\n",
    "    res = []\n",
    "    length = len(movie_matrix.index)\n",
    "    for i in movie_matrix.index:\n",
    "        if user != i:\n",
    "            similar = Euclidean(user,i)\n",
    "            res.append((i,similar))\n",
    "    res.sort(key=lambda val:val[1],reverse = True)\n",
    "    return res[:3]\n",
    "\n",
    "# 向目标用户user推荐电影\n",
    "def recommend(user):\n",
    "    top_sim_user = top_user(user)[0][0]\n",
    "    recommends = []\n",
    "    items = movie_matrix.loc[user].values\n",
    "    length = len(movie_matrix.columns)\n",
    "    for i in range(length):\n",
    "        if movie_matrix.iloc[user-1][i] == 0 and movie_matrix.iloc[top_sim_user-1][i] > 0:\n",
    "            recommends.append((movie_matrix.columns[i],movie_matrix.iloc[top_sim_user-1][i]))\n",
    "    recommends.sort(key = lambda val:val[1],reverse = True)\n",
    "    return recommends[:3]\n",
    "\n",
    "recommend(5)"
   ]
  },
  {
   "cell_type": "markdown",
   "metadata": {},
   "source": [
    "## 2、基于模型的推荐系统"
   ]
  },
  {
   "cell_type": "markdown",
   "metadata": {},
   "source": [
    "1、模型评价：均方根误差"
   ]
  },
  {
   "cell_type": "markdown",
   "metadata": {},
   "source": [
    "### （1）数据处理"
   ]
  },
  {
   "cell_type": "code",
   "execution_count": 15,
   "metadata": {},
   "outputs": [
    {
     "name": "stderr",
     "output_type": "stream",
     "text": [
      "C:\\ProgramData\\Anaconda3\\lib\\site-packages\\ipykernel_launcher.py:5: ParserWarning: Falling back to the 'python' engine because the 'c' engine does not support regex separators (separators > 1 char and different from '\\s+' are interpreted as regex); you can avoid this warning by specifying engine='python'.\n",
      "  \"\"\"\n"
     ]
    },
    {
     "data": {
      "text/html": [
       "<div>\n",
       "<style scoped>\n",
       "    .dataframe tbody tr th:only-of-type {\n",
       "        vertical-align: middle;\n",
       "    }\n",
       "\n",
       "    .dataframe tbody tr th {\n",
       "        vertical-align: top;\n",
       "    }\n",
       "\n",
       "    .dataframe thead th {\n",
       "        text-align: right;\n",
       "    }\n",
       "</style>\n",
       "<table border=\"1\" class=\"dataframe\">\n",
       "  <thead>\n",
       "    <tr style=\"text-align: right;\">\n",
       "      <th></th>\n",
       "      <th>user_id</th>\n",
       "      <th>item_id</th>\n",
       "      <th>rating</th>\n",
       "      <th>timestamp</th>\n",
       "    </tr>\n",
       "  </thead>\n",
       "  <tbody>\n",
       "    <tr>\n",
       "      <th>0</th>\n",
       "      <td>1</td>\n",
       "      <td>1193</td>\n",
       "      <td>5</td>\n",
       "      <td>978300760</td>\n",
       "    </tr>\n",
       "    <tr>\n",
       "      <th>1</th>\n",
       "      <td>1</td>\n",
       "      <td>661</td>\n",
       "      <td>3</td>\n",
       "      <td>978302109</td>\n",
       "    </tr>\n",
       "    <tr>\n",
       "      <th>2</th>\n",
       "      <td>1</td>\n",
       "      <td>914</td>\n",
       "      <td>3</td>\n",
       "      <td>978301968</td>\n",
       "    </tr>\n",
       "    <tr>\n",
       "      <th>3</th>\n",
       "      <td>1</td>\n",
       "      <td>3408</td>\n",
       "      <td>4</td>\n",
       "      <td>978300275</td>\n",
       "    </tr>\n",
       "    <tr>\n",
       "      <th>4</th>\n",
       "      <td>1</td>\n",
       "      <td>2355</td>\n",
       "      <td>5</td>\n",
       "      <td>978824291</td>\n",
       "    </tr>\n",
       "  </tbody>\n",
       "</table>\n",
       "</div>"
      ],
      "text/plain": [
       "   user_id  item_id  rating  timestamp\n",
       "0        1     1193       5  978300760\n",
       "1        1      661       3  978302109\n",
       "2        1      914       3  978301968\n",
       "3        1     3408       4  978300275\n",
       "4        1     2355       5  978824291"
      ]
     },
     "execution_count": 15,
     "metadata": {},
     "output_type": "execute_result"
    }
   ],
   "source": [
    "from sklearn import model_selection\n",
    "\n",
    "# 'user_id', 'item_id', 'rating', 'timestamp'\n",
    "header = ['user_id', 'item_id', 'rating', 'timestamp'] \n",
    "df = pd.read_table('data/ratings.dat',sep='::',names = header)\n",
    "train_data,test_data = model_selection.train_test_split(df,test_size = 0.25)\n",
    "df.head()"
   ]
  },
  {
   "cell_type": "code",
   "execution_count": 28,
   "metadata": {},
   "outputs": [],
   "source": [
    "n_users = df.user_id.unique().shape[0]\n",
    "n_items = df.item_id.unique().shape[0]\n",
    "# print(n_users,n_items)\n",
    "\n",
    "train_data_matrix = train_data.pivot_table(index = 'user_id',columns = 'item_id',values = 'rating')\n",
    "test_data_matrix = test_data.pivot_table(index = 'user_id',columns = 'item_id',values = 'rating')"
   ]
  },
  {
   "cell_type": "markdown",
   "metadata": {},
   "source": [
    "### （2）计算余弦相似性"
   ]
  },
  {
   "cell_type": "code",
   "execution_count": 29,
   "metadata": {},
   "outputs": [],
   "source": [
    "train_data_matrix.fillna(0,inplace = True)\n",
    "test_data_matrix.fillna(0,inplace = True)\n",
    "\n",
    "from sklearn.metrics.pairwise import pairwise_distances\n",
    "user_similarity = pairwise_distances(train_data_matrix,metric='cosine')\n",
    "item_similarity = pairwise_distances(train_data_matrix.T,metric='cosine')"
   ]
  },
  {
   "cell_type": "markdown",
   "metadata": {},
   "source": [
    "### （3）预测"
   ]
  },
  {
   "cell_type": "markdown",
   "metadata": {},
   "source": [
    "> 例如：设想，用户k对他最喜欢的电影评价4颗星，其他好电影评价3颗星。假设现在另一个用户t对他最喜欢的一部电影评价为5颗星，看了想睡觉的一部电影评价为3颗星。这两位用户电影口味可能很相似，但使用评价体系的方法不同。"
   ]
  },
  {
   "cell_type": "markdown",
   "metadata": {},
   "source": [
    "(3)-1 user-based CF(需要修正用户评价)"
   ]
  },
  {
   "cell_type": "code",
   "execution_count": null,
   "metadata": {},
   "outputs": [],
   "source": [
    "def predict(ratings,similarity,type='user'):\n",
    "    if type == 'user':\n",
    "        mean_user_rating = (ratings.meaning[:,np.newaxis])"
   ]
  }
 ],
 "metadata": {
  "kernelspec": {
   "display_name": "Python 3",
   "language": "python",
   "name": "python3"
  },
  "language_info": {
   "codemirror_mode": {
    "name": "ipython",
    "version": 3
   },
   "file_extension": ".py",
   "mimetype": "text/x-python",
   "name": "python",
   "nbconvert_exporter": "python",
   "pygments_lexer": "ipython3",
   "version": "3.6.4"
  }
 },
 "nbformat": 4,
 "nbformat_minor": 2
}
