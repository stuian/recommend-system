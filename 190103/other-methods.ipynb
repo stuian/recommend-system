{
 "cells": [
  {
   "cell_type": "code",
   "execution_count": 1,
   "metadata": {},
   "outputs": [],
   "source": [
    "import pandas as pd"
   ]
  },
  {
   "cell_type": "code",
   "execution_count": 2,
   "metadata": {
    "scrolled": true
   },
   "outputs": [
    {
     "name": "stdout",
     "output_type": "stream",
     "text": [
      "10\n"
     ]
    },
    {
     "data": {
      "text/plain": [
       "Int64Index([   1,    2,    3,    4,    5,    6,    7,    8,    9,   10,\n",
       "            ...\n",
       "            6031, 6032, 6033, 6034, 6035, 6036, 6037, 6038, 6039, 6040],\n",
       "           dtype='int64', name='user_id', length=6040)"
      ]
     },
     "execution_count": 2,
     "metadata": {},
     "output_type": "execute_result"
    }
   ],
   "source": [
    "data = pd.read_csv(\"data/data.csv\")\n",
    "data.set_index('user_id',inplace = True)\n",
    "print(len(data.columns))\n",
    "movie_matrix = data.pivot_table(index = 'user_id',columns = 'title',values = 'rating')\n",
    "movie_matrix.fillna(0,inplace = True)\n",
    "movie_matrix.index"
   ]
  },
  {
   "cell_type": "markdown",
   "metadata": {},
   "source": [
    "## 1、基于用户相似"
   ]
  },
  {
   "cell_type": "markdown",
   "metadata": {},
   "source": [
    "### 1.1 欧式距离"
   ]
  },
  {
   "cell_type": "code",
   "execution_count": 3,
   "metadata": {},
   "outputs": [
    {
     "data": {
      "text/plain": [
       "[('Amityville Horror, The (1979)', 5.0),\n",
       " ('Baby, The (1973)', 5.0),\n",
       " ('Blair Witch Project, The (1999)', 5.0)]"
      ]
     },
     "execution_count": 3,
     "metadata": {},
     "output_type": "execute_result"
    }
   ],
   "source": [
    "# 1、欧式距离（x1与x2的差的平方和开根号）\n",
    "# 注意这里只针对两个用户共同评价的的电影计算欧式距离;movie_matrix\n",
    "# 参考链接：\n",
    "# 1、https://blog.csdn.net/qq_25948717/article/details/81839463\n",
    "# 2、欧式距离：https://blog.csdn.net/sunnyyoona/article/details/39721485\n",
    "# 3\\https://www.cnblogs.com/liuning8023/p/5417052.html\n",
    "\n",
    "from math import * \n",
    "\n",
    "# 计算两个用户之间的相似度\n",
    "def Euclidean(user1,user2):\n",
    "    distance = 0\n",
    "    array1 = movie_matrix.loc[user1].values\n",
    "    array2 = movie_matrix.loc[user2].values\n",
    "    length = len(array1)\n",
    "    for i in range(length):\n",
    "        if float(array1[i]) > 0 and float(array2[i]) > 0 :\n",
    "            distance += pow(float(array1[i]) - float(array2[i]),2)\n",
    "    return 1/(1 + sqrt(distance))\n",
    "\n",
    "# 计算某用户与所有其他用户之间的相似度，并选取最相似的那一个\n",
    "def top_user(user):\n",
    "    res = []\n",
    "    length = len(movie_matrix.index)\n",
    "    for i in movie_matrix.index:\n",
    "        if user != i:\n",
    "            similar = Euclidean(user,i)\n",
    "            res.append((i,similar))\n",
    "    res.sort(key=lambda val:val[1],reverse = True)\n",
    "    return res[:3]\n",
    "\n",
    "# 向目标用户user推荐电影\n",
    "def recommend(user):\n",
    "    top_sim_user = top_user(user)[0][0]\n",
    "    recommends = []\n",
    "    items = movie_matrix.loc[user].values\n",
    "    length = len(movie_matrix.columns)\n",
    "    for i in range(length):\n",
    "        if movie_matrix.iloc[user-1][i] == 0 and movie_matrix.iloc[top_sim_user-1][i] > 0:\n",
    "            recommends.append((movie_matrix.columns[i],movie_matrix.iloc[top_sim_user-1][i]))\n",
    "    recommends.sort(key = lambda val:val[1],reverse = True)\n",
    "    return recommends[:3]\n",
    "\n",
    "recommend(5)"
   ]
  },
  {
   "cell_type": "markdown",
   "metadata": {},
   "source": [
    "# 基于记忆的协同过滤整个baseline"
   ]
  },
  {
   "cell_type": "markdown",
   "metadata": {},
   "source": [
    "### （1）数据处理"
   ]
  },
  {
   "cell_type": "code",
   "execution_count": 4,
   "metadata": {},
   "outputs": [
    {
     "name": "stderr",
     "output_type": "stream",
     "text": [
      "C:\\ProgramData\\Anaconda3\\lib\\site-packages\\ipykernel_launcher.py:5: ParserWarning: Falling back to the 'python' engine because the 'c' engine does not support regex separators (separators > 1 char and different from '\\s+' are interpreted as regex); you can avoid this warning by specifying engine='python'.\n",
      "  \"\"\"\n"
     ]
    },
    {
     "data": {
      "text/html": [
       "<div>\n",
       "<style scoped>\n",
       "    .dataframe tbody tr th:only-of-type {\n",
       "        vertical-align: middle;\n",
       "    }\n",
       "\n",
       "    .dataframe tbody tr th {\n",
       "        vertical-align: top;\n",
       "    }\n",
       "\n",
       "    .dataframe thead th {\n",
       "        text-align: right;\n",
       "    }\n",
       "</style>\n",
       "<table border=\"1\" class=\"dataframe\">\n",
       "  <thead>\n",
       "    <tr style=\"text-align: right;\">\n",
       "      <th></th>\n",
       "      <th>user_id</th>\n",
       "      <th>item_id</th>\n",
       "      <th>rating</th>\n",
       "      <th>timestamp</th>\n",
       "    </tr>\n",
       "  </thead>\n",
       "  <tbody>\n",
       "    <tr>\n",
       "      <th>0</th>\n",
       "      <td>1</td>\n",
       "      <td>1193</td>\n",
       "      <td>5</td>\n",
       "      <td>978300760</td>\n",
       "    </tr>\n",
       "    <tr>\n",
       "      <th>1</th>\n",
       "      <td>1</td>\n",
       "      <td>661</td>\n",
       "      <td>3</td>\n",
       "      <td>978302109</td>\n",
       "    </tr>\n",
       "    <tr>\n",
       "      <th>2</th>\n",
       "      <td>1</td>\n",
       "      <td>914</td>\n",
       "      <td>3</td>\n",
       "      <td>978301968</td>\n",
       "    </tr>\n",
       "    <tr>\n",
       "      <th>3</th>\n",
       "      <td>1</td>\n",
       "      <td>3408</td>\n",
       "      <td>4</td>\n",
       "      <td>978300275</td>\n",
       "    </tr>\n",
       "    <tr>\n",
       "      <th>4</th>\n",
       "      <td>1</td>\n",
       "      <td>2355</td>\n",
       "      <td>5</td>\n",
       "      <td>978824291</td>\n",
       "    </tr>\n",
       "  </tbody>\n",
       "</table>\n",
       "</div>"
      ],
      "text/plain": [
       "   user_id  item_id  rating  timestamp\n",
       "0        1     1193       5  978300760\n",
       "1        1      661       3  978302109\n",
       "2        1      914       3  978301968\n",
       "3        1     3408       4  978300275\n",
       "4        1     2355       5  978824291"
      ]
     },
     "execution_count": 4,
     "metadata": {},
     "output_type": "execute_result"
    }
   ],
   "source": [
    "from sklearn import model_selection\n",
    "\n",
    "# 'user_id', 'item_id', 'rating', 'timestamp'\n",
    "header = ['user_id', 'item_id', 'rating', 'timestamp'] \n",
    "df = pd.read_table('data/ratings.dat',sep='::',names = header)\n",
    "train_data,test_data = model_selection.train_test_split(df,test_size = 0.25)\n",
    "df.head()"
   ]
  },
  {
   "cell_type": "code",
   "execution_count": 5,
   "metadata": {},
   "outputs": [],
   "source": [
    "n_users = df.user_id.unique().shape[0]\n",
    "n_items = df.item_id.unique().shape[0]\n",
    "# print(n_users,n_items)\n",
    "\n",
    "train_data_matrix = train_data.pivot_table(index = 'user_id',columns = 'item_id',values = 'rating')\n",
    "test_data_matrix = test_data.pivot_table(index = 'user_id',columns = 'item_id',values = 'rating')"
   ]
  },
  {
   "cell_type": "markdown",
   "metadata": {},
   "source": [
    "### （2）计算余弦相似性"
   ]
  },
  {
   "cell_type": "code",
   "execution_count": 13,
   "metadata": {},
   "outputs": [
    {
     "data": {
      "text/plain": [
       "array([[0.        , 0.90030823, 0.89250953, ..., 1.        , 0.86166535,\n",
       "        0.90627809],\n",
       "       [0.90030823, 0.        , 0.84358166, ..., 0.97379625, 0.95198501,\n",
       "        0.80746825],\n",
       "       [0.89250953, 0.84358166, 0.        , ..., 0.90729282, 0.92237371,\n",
       "        0.90643797],\n",
       "       [0.94155176, 0.83401254, 0.88597029, ..., 0.95160661, 0.9067459 ,\n",
       "        0.90162304],\n",
       "       [0.94843388, 0.90084985, 0.92155709, ..., 0.99375801, 0.98969001,\n",
       "        0.80480405]])"
      ]
     },
     "execution_count": 13,
     "metadata": {},
     "output_type": "execute_result"
    }
   ],
   "source": [
    "train_data_matrix.fillna(0,inplace = True)\n",
    "test_data_matrix.fillna(0,inplace = True)\n",
    "\n",
    "train_data_matrix = train_data_matrix.values\n",
    "test_data_matrix = test_data_matrix.values\n",
    "\n",
    "from sklearn.metrics.pairwise import pairwise_distances\n",
    "user_similarity = pairwise_distances(train_data_matrix,metric='cosine')\n",
    "item_similarity = pairwise_distances(train_data_matrix.T,metric='cosine')\n",
    "user_similarity[:5]#和自己本身的相似度不计算，记为0"
   ]
  },
  {
   "cell_type": "markdown",
   "metadata": {},
   "source": [
    "### （3）预测"
   ]
  },
  {
   "cell_type": "markdown",
   "metadata": {},
   "source": [
    "> 例如：设想，用户k对他最喜欢的电影评价4颗星，其他好电影评价3颗星。假设现在另一个用户t对他最喜欢的一部电影评价为5颗星，看了想睡觉的一部电影评价为3颗星。这两位用户电影口味可能很相似，但使用评价体系的方法不同。"
   ]
  },
  {
   "cell_type": "markdown",
   "metadata": {},
   "source": [
    "(3)-1 user-based CF(需要修正用户评价)"
   ]
  },
  {
   "cell_type": "code",
   "execution_count": 17,
   "metadata": {},
   "outputs": [],
   "source": [
    "import numpy as np\n",
    "\n",
    "#要知道我们在文章中看到的公式都是就某个值进行计算，现实中都是大量数组数据同时计算\n",
    "def predict(ratings,similarity,type='user'):\n",
    "    if type == 'user':\n",
    "        mean_user_rating = ratings.mean(axis=1)\n",
    "        ratings_diff = (ratings - mean_user_rating[:,np.newaxis])#np.newaxis相当于None\n",
    "        pred = mean_user_rating[:,np.newaxis] + similarity.dot(ratings_diff) / np.array([np.abs(similarity).sum(axis=1)]).T#修正\n",
    "    elif type == 'item':\n",
    "        pred = ratings.dot(similarity) / np.array([np.abs(similarity).sum(axis=1)])\n",
    "    \n",
    "    return pred\n",
    "\n",
    "item_prediction = predict(train_data_matrix,item_similarity,type = 'item')\n",
    "user_prediction = predict(train_data_matrix,user_similarity,type = 'user')\n",
    "\n",
    "# 踩坑：科学计算的时候array更方便，df主要适用于数据操作"
   ]
  },
  {
   "cell_type": "markdown",
   "metadata": {},
   "source": [
    "### (4)评估\n",
    "\n",
    "mean square error(均方误差)"
   ]
  },
  {
   "cell_type": "code",
   "execution_count": 18,
   "metadata": {},
   "outputs": [
    {
     "name": "stdout",
     "output_type": "stream",
     "text": [
      "user-based CF RMSE:3.6190856160870934\n",
      "item-based CF RMSE:3.6377405519496184\n"
     ]
    }
   ],
   "source": [
    "from sklearn.metrics import mean_squared_error\n",
    "from math import sqrt\n",
    "\n",
    "def rmse(prediction,ground_truth):\n",
    "    # ground_truth.nonzero():过滤掉prediction中不必要的元素\n",
    "    prediction = prediction[ground_truth.nonzero()].flatten()#flatten:按行展开成一维数组\n",
    "    ground_truth = ground_truth[ground_truth.nonzero()].flatten()\n",
    "    return sqrt(mean_squared_error(prediction,ground_truth))\n",
    "\n",
    "print('user-based CF RMSE:' + str(rmse(user_prediction,test_data_matrix)))\n",
    "print('item-based CF RMSE:' + str(rmse(item_prediction,test_data_matrix)))"
   ]
  },
  {
   "cell_type": "markdown",
   "metadata": {},
   "source": [
    "## 2、基于模型的协同过滤"
   ]
  },
  {
   "cell_type": "markdown",
   "metadata": {},
   "source": [
    "当面对新用户或者开启新项目的时候，基于记忆的算法不能扩展到现实世界的场景"
   ]
  },
  {
   "cell_type": "markdown",
   "metadata": {},
   "source": [
    "学习用户潜在喜好和项目的潜在特征\n",
    "\n",
    "矩阵因式分解\n",
    "\n",
    "Collaborative Filtering（https://blog.csdn.net/pipisorry/article/details/51788955/） 和Content-based 模型?\n",
    "\n",
    "个性化）推荐系统构建三大方法：基于内容的推荐content-based，协同过滤collaborative filtering，隐语义模型\n",
    "\n",
    "https://www.tuicool.com/articles/6vqyYfR\n",
    "\n",
    "https://blog.csdn.net/u011537073/article/details/54143441"
   ]
  },
  {
   "cell_type": "code",
   "execution_count": null,
   "metadata": {},
   "outputs": [],
   "source": []
  }
 ],
 "metadata": {
  "kernelspec": {
   "display_name": "Python 3",
   "language": "python",
   "name": "python3"
  },
  "language_info": {
   "codemirror_mode": {
    "name": "ipython",
    "version": 3
   },
   "file_extension": ".py",
   "mimetype": "text/x-python",
   "name": "python",
   "nbconvert_exporter": "python",
   "pygments_lexer": "ipython3",
   "version": "3.6.4"
  }
 },
 "nbformat": 4,
 "nbformat_minor": 2
}
