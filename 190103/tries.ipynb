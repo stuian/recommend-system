{
 "cells": [
  {
   "cell_type": "code",
   "execution_count": 1,
   "metadata": {},
   "outputs": [],
   "source": [
    "import pandas as pd"
   ]
  },
  {
   "cell_type": "code",
   "execution_count": 32,
   "metadata": {
    "scrolled": true
   },
   "outputs": [
    {
     "data": {
      "text/plain": [
       "Int64Index([   1,    2,    3,    4,    5,    6,    7,    8,    9,   10,\n",
       "            ...\n",
       "            6031, 6032, 6033, 6034, 6035, 6036, 6037, 6038, 6039, 6040],\n",
       "           dtype='int64', name='user_id', length=6040)"
      ]
     },
     "execution_count": 32,
     "metadata": {},
     "output_type": "execute_result"
    }
   ],
   "source": [
    "data = pd.read_csv(\"data/data.csv\")\n",
    "movie_matrix = data.pivot_table(index = 'user_id',columns = 'title',values = 'rating')\n",
    "movie_matrix.fillna(0,inplace = True)\n",
    "movie_matrix.index"
   ]
  },
  {
   "cell_type": "code",
   "execution_count": 41,
   "metadata": {},
   "outputs": [
    {
     "data": {
      "text/plain": [
       "[('Amityville Horror, The (1979)', 5.0),\n",
       " ('Baby, The (1973)', 5.0),\n",
       " ('Blair Witch Project, The (1999)', 5.0)]"
      ]
     },
     "execution_count": 41,
     "metadata": {},
     "output_type": "execute_result"
    }
   ],
   "source": [
    "# 基于用户相似\n",
    "# 1、欧式距离（x1与x2的差的平方和开根号）\n",
    "# 注意这里只针对两个用户共同评价的的电影计算欧式距离;movie_matrix\n",
    "# 参考链接：\n",
    "# 1、https://blog.csdn.net/qq_25948717/article/details/81839463\n",
    "# 2、欧式距离：https://blog.csdn.net/sunnyyoona/article/details/39721485\n",
    "# 3\\https://www.cnblogs.com/liuning8023/p/5417052.html\n",
    "\n",
    "from math import * \n",
    "\n",
    "# 计算两个用户之间的相似度\n",
    "def Euclidean(user1,user2):\n",
    "    distance = 0\n",
    "    array1 = movie_matrix.loc[user1].values\n",
    "    array2 = movie_matrix.loc[user2].values\n",
    "    length = len(array1)\n",
    "    for i in range(length):\n",
    "        if float(array1[i]) > 0 and float(array2[i]) > 0 :\n",
    "            distance += pow(float(array1[i]) - float(array2[i]),2)\n",
    "    return 1/(1 + sqrt(distance))\n",
    "\n",
    "# 计算某用户与所有其他用户之间的相似度，并选取最相似的那一个\n",
    "def top_user(user):\n",
    "    res = []\n",
    "    length = len(movie_matrix.index)\n",
    "    for i in movie_matrix.index:\n",
    "        if user != i:\n",
    "            similar = Euclidean(user,i)\n",
    "            res.append((i,similar))\n",
    "    res.sort(key=lambda val:val[1],reverse = True)\n",
    "    return res[:3]\n",
    "\n",
    "# 向目标用户user推荐电影\n",
    "def recommend(user):\n",
    "    top_sim_user = top_user(user)[0][0]\n",
    "    recommends = []\n",
    "    items = movie_matrix.loc[user].values\n",
    "    length = len(movie_matrix.columns)\n",
    "    for i in range(length):\n",
    "        if movie_matrix.iloc[user-1][i] == 0 and movie_matrix.iloc[top_sim_user-1][i] > 0:\n",
    "            recommends.append((movie_matrix.columns[i],movie_matrix.iloc[top_sim_user-1][i]))\n",
    "    recommends.sort(key = lambda val:val[1],reverse = True)\n",
    "    return recommends[:3]\n",
    "\n",
    "recommend(5)"
   ]
  },
  {
   "cell_type": "code",
   "execution_count": null,
   "metadata": {},
   "outputs": [],
   "source": []
  }
 ],
 "metadata": {
  "kernelspec": {
   "display_name": "Python 3",
   "language": "python",
   "name": "python3"
  },
  "language_info": {
   "codemirror_mode": {
    "name": "ipython",
    "version": 3
   },
   "file_extension": ".py",
   "mimetype": "text/x-python",
   "name": "python",
   "nbconvert_exporter": "python",
   "pygments_lexer": "ipython3",
   "version": "3.6.4"
  }
 },
 "nbformat": 4,
 "nbformat_minor": 2
}
